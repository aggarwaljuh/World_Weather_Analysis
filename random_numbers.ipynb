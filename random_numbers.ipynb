{
 "cells": [
  {
   "cell_type": "code",
   "execution_count": 18,
   "id": "7cca9a24",
   "metadata": {},
   "outputs": [],
   "source": [
    "import random\n",
    "import numpy as np\n",
    "import timeit\n"
   ]
  },
  {
   "cell_type": "code",
   "execution_count": 2,
   "id": "b9a39a0c",
   "metadata": {},
   "outputs": [
    {
     "data": {
      "text/plain": [
       "6"
      ]
     },
     "execution_count": 2,
     "metadata": {},
     "output_type": "execute_result"
    }
   ],
   "source": [
    "random.randint(-90,90)"
   ]
  },
  {
   "cell_type": "code",
   "execution_count": 4,
   "id": "2f11823c",
   "metadata": {},
   "outputs": [
    {
     "data": {
      "text/plain": [
       "0.763438978359431"
      ]
     },
     "execution_count": 4,
     "metadata": {},
     "output_type": "execute_result"
    }
   ],
   "source": [
    "random.random()"
   ]
  },
  {
   "cell_type": "code",
   "execution_count": 7,
   "id": "66d94315",
   "metadata": {},
   "outputs": [
    {
     "data": {
      "text/plain": [
       "-77.5414202294878"
      ]
     },
     "execution_count": 7,
     "metadata": {},
     "output_type": "execute_result"
    }
   ],
   "source": [
    "random_number=random.randint(-90,89)+random.random()\n",
    "random_number"
   ]
  },
  {
   "cell_type": "code",
   "execution_count": 8,
   "id": "60cb4d82",
   "metadata": {},
   "outputs": [],
   "source": [
    "x = 1\n",
    "latitudes = []\n",
    "while x < 11:\n",
    "    random_lat = random.randint(-90, 89) + random.random()\n",
    "    latitudes.append(random_lat)\n",
    "    x += 1"
   ]
  },
  {
   "cell_type": "code",
   "execution_count": 9,
   "id": "c400c8b0",
   "metadata": {},
   "outputs": [
    {
     "data": {
      "text/plain": [
       "[23.879870518823356,\n",
       " 83.16789647889563,\n",
       " -12.774236988010841,\n",
       " 18.614991452673998,\n",
       " -31.327278673623056,\n",
       " 65.49322336051156,\n",
       " -27.738216939420585,\n",
       " -53.16887300055306,\n",
       " -47.1132665250047,\n",
       " 38.993048349313]"
      ]
     },
     "execution_count": 9,
     "metadata": {},
     "output_type": "execute_result"
    }
   ],
   "source": [
    "latitudes"
   ]
  },
  {
   "cell_type": "code",
   "execution_count": 12,
   "id": "a2da62d4",
   "metadata": {},
   "outputs": [
    {
     "data": {
      "text/plain": [
       "66"
      ]
     },
     "execution_count": 12,
     "metadata": {},
     "output_type": "execute_result"
    }
   ],
   "source": [
    "random.randrange(-90,90,step=3)"
   ]
  },
  {
   "cell_type": "code",
   "execution_count": 13,
   "id": "463ef1c5",
   "metadata": {},
   "outputs": [
    {
     "data": {
      "text/plain": [
       "-86.33363625033321"
      ]
     },
     "execution_count": 13,
     "metadata": {},
     "output_type": "execute_result"
    }
   ],
   "source": [
    "random.uniform(-90, 90)"
   ]
  },
  {
   "cell_type": "code",
   "execution_count": 16,
   "id": "75e64490",
   "metadata": {},
   "outputs": [
    {
     "data": {
      "text/plain": [
       "-52.713725777919336"
      ]
     },
     "execution_count": 16,
     "metadata": {},
     "output_type": "execute_result"
    }
   ],
   "source": [
    "np.random.uniform(-90.000, 90.000)"
   ]
  },
  {
   "cell_type": "code",
   "execution_count": 17,
   "id": "1499beda",
   "metadata": {},
   "outputs": [
    {
     "data": {
      "text/plain": [
       "array([ 86.52478813,  40.53918374, -83.12835868, -49.17376281,\n",
       "       -31.60695813,  14.99478051,  25.69897303, -36.88813788,\n",
       "       -34.05540539,  57.10870088,  82.91030252, -20.21341283,\n",
       "       -39.48480214, -84.62054279,  77.88300611,  62.03234   ,\n",
       "       -49.33599267,  44.25771096,  48.70749939,  43.01088953,\n",
       "        45.291866  ,  70.86404989, -36.6992302 ,  61.76178188,\n",
       "       -47.18649841,   7.24703334,  88.61430896, -46.0478238 ,\n",
       "         8.94218108,  58.40878457, -13.04611849,  24.46287067,\n",
       "        57.92929575,  14.63372908, -68.01922254,  89.55793189,\n",
       "         8.65697311,  11.63234443, -56.87122984,  58.68337545,\n",
       "        33.93508008, -81.81270652,  57.35137807,  85.98015784,\n",
       "       -73.3257048 ,  52.13821084,  51.73340672, -13.32509818,\n",
       "        65.78581334, -72.96947047])"
      ]
     },
     "execution_count": 17,
     "metadata": {},
     "output_type": "execute_result"
    }
   ],
   "source": [
    "np.random.uniform(-90.000, 90.000, size=50) "
   ]
  },
  {
   "cell_type": "code",
   "execution_count": 19,
   "id": "05a75daa",
   "metadata": {},
   "outputs": [
    {
     "name": "stdout",
     "output_type": "stream",
     "text": [
      "16 µs ± 747 ns per loop (mean ± std. dev. of 7 runs, 100000 loops each)\n"
     ]
    }
   ],
   "source": [
    "%timeit np.random.uniform(-90.000, 90.000, size=1500)"
   ]
  },
  {
   "cell_type": "code",
   "execution_count": 20,
   "id": "616f781c",
   "metadata": {},
   "outputs": [
    {
     "name": "stdout",
     "output_type": "stream",
     "text": [
      "2.03 ms ± 123 µs per loop (mean ± std. dev. of 7 runs, 1000 loops each)\n"
     ]
    }
   ],
   "source": [
    "def latitudes(size):\n",
    "    latitudes = []\n",
    "    x = 0\n",
    "    while x < (size):\n",
    "        random_lat = random.randint(-90, 90) + random.random()\n",
    "        latitudes.append(random_lat)\n",
    "        x += 1\n",
    "    return latitudes\n",
    "# Call the function with 1500.\n",
    "%timeit latitudes(1500)"
   ]
  },
  {
   "cell_type": "code",
   "execution_count": null,
   "id": "3d8b390c",
   "metadata": {},
   "outputs": [],
   "source": []
  }
 ],
 "metadata": {
  "kernelspec": {
   "display_name": "PythonData",
   "language": "python",
   "name": "pythondata"
  },
  "language_info": {
   "codemirror_mode": {
    "name": "ipython",
    "version": 3
   },
   "file_extension": ".py",
   "mimetype": "text/x-python",
   "name": "python",
   "nbconvert_exporter": "python",
   "pygments_lexer": "ipython3",
   "version": "3.7.13"
  }
 },
 "nbformat": 4,
 "nbformat_minor": 5
}
